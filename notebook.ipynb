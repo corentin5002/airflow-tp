{
 "cells": [
  {
   "cell_type": "code",
   "execution_count": 30,
   "metadata": {},
   "outputs": [],
   "source": [
    "import sqlalchemy as sql\n",
    "import psycopg2\n",
    "import pandas as pd\n",
    "import numpy as np\n",
    "\n",
    "import plotly.graph_objects as go"
   ]
  },
  {
   "cell_type": "code",
   "execution_count": null,
   "metadata": {},
   "outputs": [],
   "source": [
    "# Informations de connexion\n",
    "username = 'airflow'\n",
    "password = 'airflow'\n",
    "host = 'localhost'  # ou le nom du conteneur Docker si vous utilisez Docker Compose\n",
    "port = '5432'\n",
    "database = 'airflow'\n",
    "\n",
    "conn = psycopg2.connect(\n",
    "    dbname=database,\n",
    "    user=username,\n",
    "    password=password,\n",
    "    host=host,\n",
    "    port=port\n",
    ")\n",
    "\n",
    "# Exemple de requête\n",
    "data = pd.read_sql(\"SELECT * FROM weather_data\", conn)\n",
    "\n",
    "# Fermeture de la connexion\n",
    "conn.close()"
   ]
  },
  {
   "cell_type": "code",
   "execution_count": null,
   "metadata": {},
   "outputs": [],
   "source": [
    "data"
   ]
  },
  {
   "cell_type": "code",
   "execution_count": null,
   "metadata": {},
   "outputs": [],
   "source": [
    "x = data['Date']\n",
    "y1 = data['Temp']\n",
    "\n",
    "y2 = data['Feels_like']\n",
    "\n",
    "fig  = go.Figure()\n",
    "\n",
    "markers_config = {\n",
    "    'size': 10,\n",
    "    'line': {'width': 2},\n",
    "    'symbol': 'diamond'\n",
    "}\n",
    "\n",
    "fig.add_trace(go.Scatter(\n",
    "    x=x, \n",
    "    y=y2, \n",
    "    mode='lines+markers', \n",
    "    marker=markers_config, \n",
    "    name='Température ressentie'\n",
    "))\n",
    "\n",
    "fig.add_trace(go.Scatter(\n",
    "    x=x, \n",
    "    y=y1, \n",
    "    mode='lines+markers', \n",
    "    marker=markers_config, \n",
    "    name='Température'\n",
    "))\n",
    "\n",
    "\n",
    "fig.update_layout(\n",
    "    title=f'Température et température ressentie : {data['City'][0]}',\n",
    "    xaxis_title='Date',\n",
    "    yaxis_title='Température (°C)',\n",
    "    template='plotly_dark',\n",
    "    legend_title='Légende'\n",
    ")\n",
    "\n",
    "\n",
    "fig.show()"
   ]
  }
 ],
 "metadata": {
  "kernelspec": {
   "display_name": "ariflow",
   "language": "python",
   "name": "python3"
  },
  "language_info": {
   "codemirror_mode": {
    "name": "ipython",
    "version": 3
   },
   "file_extension": ".py",
   "mimetype": "text/x-python",
   "name": "python",
   "nbconvert_exporter": "python",
   "pygments_lexer": "ipython3",
   "version": "3.12.7"
  }
 },
 "nbformat": 4,
 "nbformat_minor": 2
}
